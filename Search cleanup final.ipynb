{
 "cells": [
  {
   "cell_type": "code",
   "execution_count": 29,
   "id": "7c55a59a",
   "metadata": {},
   "outputs": [
    {
     "data": {
      "text/plain": [
       "True     263183\n",
       "False      2395\n",
       "Name: asc, dtype: Int64"
      ]
     },
     "metadata": {},
     "output_type": "display_data"
    }
   ],
   "source": [
    "import pandas as pd\n",
    "import numpy as np\n",
    "df=pd.read_csv('Search_report_10_10.csv')\n",
    "\n",
    "#Rename Search term column\n",
    "df.rename(columns = {'Search Term (evar18)':'Search Term'}, inplace = True)\n",
    "\n",
    "\n",
    "#Change the Search term to String from Object\n",
    "df['Search Term']=df['Search Term'].values.astype('str')\n",
    "\n",
    "#Create a blank boolean column asc to hold the true false results from .isascii function\n",
    "df[\"asc\"]=np.nan\n",
    "df[\"asc\"]=df[\"asc\"].astype('boolean')\n",
    "\n",
    "#Check if a search term has values within ascii limits. If not set asc=false\n",
    "for i in df.index:\n",
    "    b=df['Search Term'].iloc[i].isascii()\n",
    "    df['asc'].iloc[i]=b\n",
    "    \n",
    "#Count # of true and false values within asc col.\n",
    "display(df['asc'].value_counts())\n",
    "\n",
    "#Export the clean and the garbage file\n",
    "df1=df.loc[df['asc'] == False]\n",
    "df1.to_csv('Garbage file')\n",
    "\n",
    "df2=df.loc[df['asc'] == True]\n",
    "df2.to_csv('Clean file')"
   ]
  },
  {
   "cell_type": "code",
   "execution_count": null,
   "id": "13a4a24f",
   "metadata": {},
   "outputs": [],
   "source": []
  }
 ],
 "metadata": {
  "kernelspec": {
   "display_name": "Python 3 (ipykernel)",
   "language": "python",
   "name": "python3"
  },
  "language_info": {
   "codemirror_mode": {
    "name": "ipython",
    "version": 3
   },
   "file_extension": ".py",
   "mimetype": "text/x-python",
   "name": "python",
   "nbconvert_exporter": "python",
   "pygments_lexer": "ipython3",
   "version": "3.9.12"
  }
 },
 "nbformat": 4,
 "nbformat_minor": 5
}
